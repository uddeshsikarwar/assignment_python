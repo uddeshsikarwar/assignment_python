{
  "metadata": {
    "kernelspec": {
      "name": "python",
      "display_name": "Python (Pyodide)",
      "language": "python"
    },
    "language_info": {
      "codemirror_mode": {
        "name": "python",
        "version": 3
      },
      "file_extension": ".py",
      "mimetype": "text/x-python",
      "name": "python",
      "nbconvert_exporter": "python",
      "pygments_lexer": "ipython3",
      "version": "3.8"
    }
  },
  "nbformat_minor": 4,
  "nbformat": 4,
  "cells": [
    {
      "cell_type": "markdown",
      "source": "read_this_assignment",
      "metadata": {}
    },
    {
      "cell_type": "markdown",
      "source": "# Discuss string slicing and provide examples.\n\n## it is a fundamental operation in Python that allows you to extract a portion of a string, creating a new string from the selected part.\n## for ex: text = “Hello, World!”            slice_result = text[0:5]             print(slice_result)",
      "metadata": {}
    },
    {
      "cell_type": "markdown",
      "source": "# Explain the key features of lists in Python.\n\n## Lists are mutable and dynamic, list items can be added, removed or changed after the list is defined, Lists are ordered; newly added items will be placed at the end of the list, Lists use zero-based indexing, every list item has an associated index, and the first item's index is 0.",
      "metadata": {}
    },
    {
      "cell_type": "markdown",
      "source": "# Describe how to access, modify, and delete elements in a list with examples\n\n## Elements to be added: Methods like append(), insert(), and extend() can be used to add elements to a list.\n## Deleting Elements: You can delete elements from a list using methods such as remove(), pop(), and the del statement.\n",
      "metadata": {}
    },
    {
      "cell_type": "markdown",
      "source": "# Compare and contrast tuples and lists with examples\n\n##      lists                                                                tuples\n\n## Lists are mutable\t                                               Tuples are immutable\n## The implication of iterations is Time-consuming\t                   The implication of iterations is comparatively Faster\n## The list is better for performing operations, \t                   A Tuple data type is appropriate for                      such as insertion and deletion.                                                accessing the elements\n## Lists consume more memory\t                                    Tuple consumes less memory as compared to the list\n## Lists have several built-in methods\t                            Tuple does not have many built-in methods.\n## Unexpected changes and errors are more likely to occur\t        Because tuples don’t change they are far less error-prone.",
      "metadata": {}
    },
    {
      "cell_type": "markdown",
      "source": "# Describe the key features of sets and provide examples of their use\n\n## Sets are a well-defined collection of objects. Objects that a set contains are called the elements of the set. We can also consider sets as collections of elements that have a common feature. For example, the collection of even numbers is called the set of even numbers.\n## The six properties of sets are commutative property, associative property, distributive property, identity property, complement property, idempotent property.",
      "metadata": {}
    },
    {
      "cell_type": "markdown",
      "source": "# Discuss the use cases of tuples and sets in Python programming\n\n## Tuples are immutable collections of variables, so they can't be changed after creation. Sets are mutable collections of variables, so sets can be changed after creation. The better choice is set because it allows us to add or remove items while the Set is in use.\n",
      "metadata": {}
    },
    {
      "cell_type": "markdown",
      "source": "#  Describe how to add, modify, and delete items in a dictionary with examples\n\n## Once you have created a dictionary, you can add, remove, or update elements using the methods dict. update(), dict. pop(), and dict. popitem().",
      "metadata": {}
    },
    {
      "cell_type": "markdown",
      "source": "# Discuss the importance of dictionary keys being immutable and provide example\n\n##  If the key were a mutable object, its value could change, and thus its hash could also change.",
      "metadata": {}
    },
    {
      "cell_type": "code",
      "source": "",
      "metadata": {
        "trusted": true
      },
      "outputs": [],
      "execution_count": null
    }
  ]
}