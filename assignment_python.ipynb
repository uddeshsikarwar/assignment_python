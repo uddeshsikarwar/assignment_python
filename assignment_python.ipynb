{
  "metadata": {
    "kernelspec": {
      "name": "python",
      "display_name": "Python (Pyodide)",
      "language": "python"
    },
    "language_info": {
      "codemirror_mode": {
        "name": "python",
        "version": 3
      },
      "file_extension": ".py",
      "mimetype": "text/x-python",
      "name": "python",
      "nbconvert_exporter": "python",
      "pygments_lexer": "ipython3",
      "version": "3.8"
    }
  },
  "nbformat_minor": 4,
  "nbformat": 4,
  "cells": [
    {
      "cell_type": "raw",
      "source": "#read this assignment:",
      "metadata": {}
    },
    {
      "cell_type": "raw",
      "source": "# Explain the key features of Python that make it a popular choice for programming.\n\n## easier to use and learn\n## it has a simple syntax which is easy to learn and execute\n## it is an open source language\n## it has a huge amount of library\n## it is object oriented programming language\n## it is widely used in the larger community\n## it is updating in day to day era",
      "metadata": {}
    },
    {
      "cell_type": "raw",
      "source": "# Describe the role of predefined keywords in Python and provide examples of how they are used in a program.\n\n## predefined keywords are the predefined words that hold a special meaning and have specific purpose in python programming.\n## for example: float value >> integers with decimal value (2.3)\n                str >> any name (ajay)\n                int >> any integer (2)\n                boolean value >> True/False  (1/0)",
      "metadata": {}
    },
    {
      "cell_type": "raw",
      "source": "# Compare and contrast mutable and immutable objects in Python with examples.\n\n## mutable objects are the objects whose state or values can be changed after they are created. list is a type of mutable        objects\n    for ex: list_cont[1,2,3] here 1 can be replaced by 5 as list_cont(0) = 5\n## immutable objects are the objects whose values cannot be changed after it is created\n    for ex: b = 5 it cannot be changed",
      "metadata": {}
    },
    {
      "cell_type": "raw",
      "source": "# Discuss the different types of operators in Python and provide examples of how they are used.\n\n## there are different types of operators such as: assignment operator, bitwise , membership, arithmetic, logical,\n    and relational operator.\n## for example: addition (+) , subtraction (-) , add and assign (+=) , not equal (!=)",
      "metadata": {}
    },
    {
      "cell_type": "raw",
      "source": "#  Explain the concept of type casting in Python with examples.\n\n## type casting is used to change the type of the given value.\n    for example if the name is given in str form and if we want to change in the integer form we can use type casting for it.\n##  int(), float(), str()",
      "metadata": {}
    },
    {
      "cell_type": "raw",
      "source": "# How do conditional statements work in Python? Illustrate with examples.\n\n## Conditional statements allow you to make decisions in your code, which can make your code more efficient and easier to        read.\n## example: We can use the if-elif-else statement to tell Python to try a different condition if the previous conditions were not met. x = 10 if x > 20: print(\"x is bigger than 10.\") elif x = 20: print(\"x is equals to 20.\") else: print(\"x is neither bigger than 10 or equal to 20.\")",
      "metadata": {}
    },
    {
      "cell_type": "raw",
      "source": "# Describe the different types of loops in Python and their use cases with examples.\n\n## different types of loops are: for loop, while loop, nested loop, break statement, continue statement, else clause.",
      "metadata": {}
    }
  ]
}